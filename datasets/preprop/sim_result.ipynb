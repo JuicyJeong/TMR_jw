{
 "cells": [
  {
   "cell_type": "code",
   "execution_count": 2,
   "metadata": {},
   "outputs": [],
   "source": [
    "import os\n",
    "import numpy as np\n",
    "import pandas as pd"
   ]
  },
  {
   "cell_type": "code",
   "execution_count": null,
   "metadata": {},
   "outputs": [],
   "source": [
    "'''\n",
    "1. 로그 불러옴\n",
    "2. 로그의 레퍼파일이름의 유니크를 받음\n",
    "3. 로그레퍼[i]에서 src file들을 입력\n",
    "    3-1. 파일들은 NNNNNN.npy로 h3d 파일로 있음\n",
    "    3-2. index.csv 불러와서 NNNNNN.npy를 path/to/save.npz로 변경\n",
    "4. 변경된 npz를 레퍼파일의 이름폴더에 저장\n",
    "5. 폴더 내에는 npz와 csv 폴더가 나뉘어져 있어야함\n",
    "'''"
   ]
  },
  {
   "cell_type": "code",
   "execution_count": 112,
   "metadata": {},
   "outputs": [
    {
     "data": {
      "text/html": [
       "<div>\n",
       "<style scoped>\n",
       "    .dataframe tbody tr th:only-of-type {\n",
       "        vertical-align: middle;\n",
       "    }\n",
       "\n",
       "    .dataframe tbody tr th {\n",
       "        vertical-align: top;\n",
       "    }\n",
       "\n",
       "    .dataframe thead th {\n",
       "        text-align: right;\n",
       "    }\n",
       "</style>\n",
       "<table border=\"1\" class=\"dataframe\">\n",
       "  <thead>\n",
       "    <tr style=\"text-align: right;\">\n",
       "      <th></th>\n",
       "      <th>ref_file_name</th>\n",
       "      <th>src_file_name</th>\n",
       "      <th>Cos_Similarity</th>\n",
       "      <th>max_frame_start</th>\n",
       "      <th>max_frame_end</th>\n",
       "    </tr>\n",
       "  </thead>\n",
       "  <tbody>\n",
       "    <tr>\n",
       "      <th>0</th>\n",
       "      <td>Skydive_Recovery.npy</td>\n",
       "      <td>001203.npy</td>\n",
       "      <td>0.655987</td>\n",
       "      <td>136</td>\n",
       "      <td>167</td>\n",
       "    </tr>\n",
       "    <tr>\n",
       "      <th>1</th>\n",
       "      <td>Skydive_Recovery.npy</td>\n",
       "      <td>001203.npy</td>\n",
       "      <td>0.654890</td>\n",
       "      <td>140</td>\n",
       "      <td>171</td>\n",
       "    </tr>\n",
       "    <tr>\n",
       "      <th>2</th>\n",
       "      <td>Skydive_Recovery.npy</td>\n",
       "      <td>001203.npy</td>\n",
       "      <td>0.650773</td>\n",
       "      <td>144</td>\n",
       "      <td>175</td>\n",
       "    </tr>\n",
       "    <tr>\n",
       "      <th>3</th>\n",
       "      <td>Skydive_Recovery.npy</td>\n",
       "      <td>008217.npy</td>\n",
       "      <td>0.650168</td>\n",
       "      <td>108</td>\n",
       "      <td>139</td>\n",
       "    </tr>\n",
       "    <tr>\n",
       "      <th>4</th>\n",
       "      <td>Skydive_Recovery.npy</td>\n",
       "      <td>008217.npy</td>\n",
       "      <td>0.651262</td>\n",
       "      <td>112</td>\n",
       "      <td>143</td>\n",
       "    </tr>\n",
       "  </tbody>\n",
       "</table>\n",
       "</div>"
      ],
      "text/plain": [
       "          ref_file_name src_file_name  Cos_Similarity  max_frame_start  \\\n",
       "0  Skydive_Recovery.npy    001203.npy        0.655987              136   \n",
       "1  Skydive_Recovery.npy    001203.npy        0.654890              140   \n",
       "2  Skydive_Recovery.npy    001203.npy        0.650773              144   \n",
       "3  Skydive_Recovery.npy    008217.npy        0.650168              108   \n",
       "4  Skydive_Recovery.npy    008217.npy        0.651262              112   \n",
       "\n",
       "   max_frame_end  \n",
       "0            167  \n",
       "1            171  \n",
       "2            175  \n",
       "3            139  \n",
       "4            143  "
      ]
     },
     "execution_count": 112,
     "metadata": {},
     "output_type": "execute_result"
    }
   ],
   "source": [
    "#로그 파일 불러옴\n",
    "log = pd.read_csv(\"log10.csv\")\n",
    "log.head()"
   ]
  },
  {
   "cell_type": "code",
   "execution_count": 113,
   "metadata": {},
   "outputs": [
    {
     "name": "stdout",
     "output_type": "stream",
     "text": [
      "6\n",
      "['Skydive_Recovery.npy' 'Ascend_Start.npy' 'Turn_LT_180.npy'\n",
      " 'Look_RTUP.npy' 'Turn_RT_180.npy' 'Fly_LT.npy']\n"
     ]
    }
   ],
   "source": [
    "#레퍼 파일 유니크 값 얻음\n",
    "ref_file_name_list = log.loc[:,'ref_file_name'].unique()\n",
    "print(len(ref_file_name_list))\n",
    "print(ref_file_name_list)\n",
    "\n",
    "\n"
   ]
  },
  {
   "cell_type": "code",
   "execution_count": 114,
   "metadata": {},
   "outputs": [
    {
     "name": "stdout",
     "output_type": "stream",
     "text": [
      "22\n",
      "['006520.npy' '007482.npy' '003679.npy' '006235.npy' '004842.npy'\n",
      " '005457.npy' '000961.npy' '009483.npy' '002562.npy' '010532.npy'\n",
      " '010994.npy' '014020.npy' '005874.npy' '011940.npy' '000683.npy'\n",
      " '001930.npy' '008756.npy' '002449.npy' '011166.npy' '007867.npy'\n",
      " '000466.npy' '006084.npy']\n"
     ]
    }
   ],
   "source": [
    "sim_file_list = log[(log['ref_file_name'] ==ref_file_name_list[1]) & (log['Cos_Similarity'] >= 0.73)]['src_file_name'].unique()\n",
    "print(len(sim_file_list))\n",
    "print(sim_file_list)\n"
   ]
  },
  {
   "cell_type": "code",
   "execution_count": 115,
   "metadata": {},
   "outputs": [
    {
     "data": {
      "text/html": [
       "<div>\n",
       "<style scoped>\n",
       "    .dataframe tbody tr th:only-of-type {\n",
       "        vertical-align: middle;\n",
       "    }\n",
       "\n",
       "    .dataframe tbody tr th {\n",
       "        vertical-align: top;\n",
       "    }\n",
       "\n",
       "    .dataframe thead th {\n",
       "        text-align: right;\n",
       "    }\n",
       "</style>\n",
       "<table border=\"1\" class=\"dataframe\">\n",
       "  <thead>\n",
       "    <tr style=\"text-align: right;\">\n",
       "      <th></th>\n",
       "      <th>source_path</th>\n",
       "      <th>start_frame</th>\n",
       "      <th>end_frame</th>\n",
       "      <th>new_name</th>\n",
       "    </tr>\n",
       "  </thead>\n",
       "  <tbody>\n",
       "    <tr>\n",
       "      <th>0</th>\n",
       "      <td>./pose_data/KIT/3/kick_high_left02_poses.npy</td>\n",
       "      <td>0</td>\n",
       "      <td>117</td>\n",
       "      <td>000000.npy</td>\n",
       "    </tr>\n",
       "    <tr>\n",
       "      <th>1</th>\n",
       "      <td>./pose_data/humanact12/humanact12/P11G01R02F18...</td>\n",
       "      <td>0</td>\n",
       "      <td>-1</td>\n",
       "      <td>000001.npy</td>\n",
       "    </tr>\n",
       "    <tr>\n",
       "      <th>2</th>\n",
       "      <td>./pose_data/KIT/3/jump_left02_poses.npy</td>\n",
       "      <td>0</td>\n",
       "      <td>83</td>\n",
       "      <td>000002.npy</td>\n",
       "    </tr>\n",
       "    <tr>\n",
       "      <th>3</th>\n",
       "      <td>./pose_data/KIT/1747/displace_from_left_to_rig...</td>\n",
       "      <td>0</td>\n",
       "      <td>91</td>\n",
       "      <td>000003.npy</td>\n",
       "    </tr>\n",
       "    <tr>\n",
       "      <th>4</th>\n",
       "      <td>./pose_data/CMU/80/80_63_poses.npy</td>\n",
       "      <td>516</td>\n",
       "      <td>716</td>\n",
       "      <td>000004.npy</td>\n",
       "    </tr>\n",
       "  </tbody>\n",
       "</table>\n",
       "</div>"
      ],
      "text/plain": [
       "                                         source_path  start_frame  end_frame  \\\n",
       "0       ./pose_data/KIT/3/kick_high_left02_poses.npy            0        117   \n",
       "1  ./pose_data/humanact12/humanact12/P11G01R02F18...            0         -1   \n",
       "2            ./pose_data/KIT/3/jump_left02_poses.npy            0         83   \n",
       "3  ./pose_data/KIT/1747/displace_from_left_to_rig...            0         91   \n",
       "4                 ./pose_data/CMU/80/80_63_poses.npy          516        716   \n",
       "\n",
       "     new_name  \n",
       "0  000000.npy  \n",
       "1  000001.npy  \n",
       "2  000002.npy  \n",
       "3  000003.npy  \n",
       "4  000004.npy  "
      ]
     },
     "execution_count": 115,
     "metadata": {},
     "output_type": "execute_result"
    }
   ],
   "source": [
    "idx_file = pd.read_csv('index.csv')\n",
    "idx_file.head()"
   ]
  },
  {
   "cell_type": "code",
   "execution_count": 116,
   "metadata": {},
   "outputs": [
    {
     "name": "stdout",
     "output_type": "stream",
     "text": [
      "['amass_data/BMLmovi/Subject_65_F_MoSh/Subject_65_F_11_poses.npz', 'amass_data/BMLmovi/Subject_48_F_MoSh/Subject_48_F_11_poses.npz', 'amass_data/KIT/675/dry_right_arm_006_poses.npz', 'amass_data/BMLmovi/Subject_14_F_MoSh/Subject_14_F_16_poses.npz', 'amass_data/BMLmovi/Subject_81_F_MoSh/Subject_81_F_20_poses.npz', 'amass_data/HumanEva/S1/Static_poses.npz', 'amass_data/Eyes_Japan_Dataset/kaiwa/gesture_etc-22-mobile receive-kaiwa_poses.npz', 'amass_data/BMLmovi/Subject_70_F_MoSh/Subject_70_F_5_poses.npz', 'amass_data/Eyes_Japan_Dataset/kaiwa/pose-01-normal-kaiwa_poses.npz', 'amass_data/CMU/24/24_01_poses.npz', 'amass_data/BioMotionLab_NTroje/rub065/0031_rom_poses.npz', 'amass_data/BMLmovi/Subject_24_F_MoSh/Subject_24_F_1_poses.npz', 'amass_data/BioMotionLab_NTroje/rub066/0030_rom_poses.npz', 'amass_data/BMLmovi/Subject_6_F_MoSh/Subject_6_F_18_poses.npz', 'amass_data/BMLmovi/Subject_81_F_MoSh/Subject_81_F_4_poses.npz', 'amass_data/BMLmovi/Subject_40_F_MoSh/Subject_40_F_1_poses.npz', 'amass_data/BMLmovi/Subject_6_F_MoSh/Subject_6_F_16_poses.npz', 'amass_data/BMLmovi/Subject_8_F_MoSh/Subject_8_F_20_poses.npz', 'amass_data/BMLmovi/Subject_30_F_MoSh/Subject_30_F_1_poses.npz', 'amass_data/Eyes_Japan_Dataset/takiguchi/greeting-09-certificate-takiguchi_poses.npz', 'amass_data/BMLmovi/Subject_17_F_MoSh/Subject_17_F_13_poses.npz', 'amass_data/ACCAD/Female1Gestures_c3d/Female1 Subj Calibration_poses.npz']\n"
     ]
    }
   ],
   "source": [
    "#for문 돌면서 소스패스 추가하기\n",
    "source_path_list = []\n",
    "for i in range(len(sim_file_list)):\n",
    "    source_path = idx_file[idx_file['new_name']==sim_file_list[i]]['source_path']\n",
    "    \n",
    "    source_path.values[0] = source_path.values[0].replace(\"./pose_data\", \"amass_data\")\n",
    "    source_path.values[0] = source_path.values[0].replace(\".npy\", \".npz\")\n",
    "    # print(source_path.values[0])\n",
    "    source_path_list.append(source_path.values[0])\n",
    "print(source_path_list)"
   ]
  },
  {
   "cell_type": "code",
   "execution_count": 110,
   "metadata": {},
   "outputs": [],
   "source": [
    "# 저장폴더 - 최상단 폴더 설정\n",
    "save_root = 'npy_cos_sim/'\n",
    "# 저장폴더 - 레퍼파일 폴더명 생성\n",
    "for ref_folder in ref_file_name_list:\n",
    "    save_folder = os.path.join(save_root,ref_folder[:-4])\n",
    "    \n",
    "    if not os.path.exists(save_folder):\n",
    "        os.makedirs(save_folder)\n",
    "\n"
   ]
  },
  {
   "cell_type": "code",
   "execution_count": 120,
   "metadata": {},
   "outputs": [
    {
     "name": "stdout",
     "output_type": "stream",
     "text": [
      "파일이 npy_cos_sim/Ascend_Start/npz/Subject_65_F_11_poses.npz에 성공적으로 복사되었습니다.\n",
      "파일이 npy_cos_sim/Ascend_Start/npz/Subject_48_F_11_poses.npz에 성공적으로 복사되었습니다.\n",
      "파일이 npy_cos_sim/Ascend_Start/npz/dry_right_arm_006_poses.npz에 성공적으로 복사되었습니다.\n",
      "파일이 npy_cos_sim/Ascend_Start/npz/Subject_14_F_16_poses.npz에 성공적으로 복사되었습니다.\n",
      "파일이 npy_cos_sim/Ascend_Start/npz/Subject_81_F_20_poses.npz에 성공적으로 복사되었습니다.\n",
      "파일이 npy_cos_sim/Ascend_Start/npz/Static_poses.npz에 성공적으로 복사되었습니다.\n",
      "파일이 npy_cos_sim/Ascend_Start/npz/gesture_etc-22-mobile receive-kaiwa_poses.npz에 성공적으로 복사되었습니다.\n",
      "파일이 npy_cos_sim/Ascend_Start/npz/Subject_70_F_5_poses.npz에 성공적으로 복사되었습니다.\n",
      "파일이 npy_cos_sim/Ascend_Start/npz/pose-01-normal-kaiwa_poses.npz에 성공적으로 복사되었습니다.\n",
      "파일이 npy_cos_sim/Ascend_Start/npz/24_01_poses.npz에 성공적으로 복사되었습니다.\n",
      "파일이 npy_cos_sim/Ascend_Start/npz/0031_rom_poses.npz에 성공적으로 복사되었습니다.\n",
      "파일이 npy_cos_sim/Ascend_Start/npz/Subject_24_F_1_poses.npz에 성공적으로 복사되었습니다.\n",
      "파일이 npy_cos_sim/Ascend_Start/npz/0030_rom_poses.npz에 성공적으로 복사되었습니다.\n",
      "파일이 npy_cos_sim/Ascend_Start/npz/Subject_6_F_18_poses.npz에 성공적으로 복사되었습니다.\n",
      "파일이 npy_cos_sim/Ascend_Start/npz/Subject_81_F_4_poses.npz에 성공적으로 복사되었습니다.\n",
      "파일이 npy_cos_sim/Ascend_Start/npz/Subject_40_F_1_poses.npz에 성공적으로 복사되었습니다.\n",
      "파일이 npy_cos_sim/Ascend_Start/npz/Subject_6_F_16_poses.npz에 성공적으로 복사되었습니다.\n",
      "파일이 npy_cos_sim/Ascend_Start/npz/Subject_8_F_20_poses.npz에 성공적으로 복사되었습니다.\n",
      "파일이 npy_cos_sim/Ascend_Start/npz/Subject_30_F_1_poses.npz에 성공적으로 복사되었습니다.\n",
      "파일이 npy_cos_sim/Ascend_Start/npz/greeting-09-certificate-takiguchi_poses.npz에 성공적으로 복사되었습니다.\n",
      "파일이 npy_cos_sim/Ascend_Start/npz/Subject_17_F_13_poses.npz에 성공적으로 복사되었습니다.\n",
      "파일이 npy_cos_sim/Ascend_Start/npz/Female1 Subj Calibration_poses.npz에 성공적으로 복사되었습니다.\n"
     ]
    }
   ],
   "source": [
    "import shutil\n",
    "# amass 파일 폴더에서 데이터 있는지 확인하기\n",
    "\n",
    "for source_path in source_path_list:\n",
    "    \n",
    "    # source_file_path = 'amass_data/CMU/114/114_16_poses.npz'\n",
    "    npy_file_name = source_path.split(\"/\")[-1]\n",
    "    # print(npy_file_name)\n",
    "    # 복사할 대상 경로\n",
    "    destination_folder = 'npy_cos_sim/'\n",
    "    # destination_file_path = os.path.join(destination_folder, str(ref_file_name_list[2][:-4]),'npz',npy_file_name)\n",
    "    destination_file_path = destination_folder  + str(ref_file_name_list[1][:-4]) + '/npz/' +npy_file_name\n",
    "    # print(destination_file_path)\n",
    "\n",
    "    # 파일이 존재하는지 확인\n",
    "    if os.path.exists(source_path):\n",
    "        # 대상 폴더가 존재하지 않으면 생성\n",
    "        # print(\"파일 존재합니다.\")\n",
    "        pass\n",
    "    else:\n",
    "        print(\"파일 안존재함\")\n",
    "\n",
    "    if not os.path.exists(destination_folder):\n",
    "        print(\"폴더 내에 파일이 존재하지 않습니다.\")\n",
    "    else:\n",
    "        # print(f'저장 폴더 있습니다.')\n",
    "        # 파일 복사\n",
    "        shutil.copy2(source_path, destination_file_path)\n",
    "        print(f\"파일이 {destination_file_path}에 성공적으로 복사되었습니다.\")\n",
    "\n",
    "# 있으면 그 파일 복사에서 타겟 폴더에 붙여넣기 없으면 pass하기"
   ]
  },
  {
   "cell_type": "code",
   "execution_count": null,
   "metadata": {},
   "outputs": [],
   "source": []
  },
  {
   "cell_type": "code",
   "execution_count": null,
   "metadata": {},
   "outputs": [],
   "source": []
  },
  {
   "cell_type": "code",
   "execution_count": 88,
   "metadata": {},
   "outputs": [],
   "source": [
    "# 유사도 결과 npz 파일들 불러와서 csv로 바꾸는 스크립트\n",
    "'''\n",
    "1. npy_cos_sim 폴더를 지정\n",
    "1-1. 폴더 내에는 \n",
    "레퍼 이름\n",
    "|--csv\n",
    "|--npz\n",
    "    |--파일들...\n",
    "    |--파일들...\n",
    "    |--파일들...\n",
    "1-2. 폴더 내에 있는 \n",
    "'''\n"
   ]
  },
  {
   "cell_type": "code",
   "execution_count": 97,
   "metadata": {},
   "outputs": [
    {
     "name": "stdout",
     "output_type": "stream",
     "text": [
      "['npy_cos_sim/Fly_BK/npz/28_13_poses.npz', 'npy_cos_sim/Fly_BK/npz/30_23_poses.npz', 'npy_cos_sim/Fly_BK/npz/54_16_poses.npz', 'npy_cos_sim/Fly_BK/npz/54_23_poses.npz', 'npy_cos_sim/Fly_BK/npz/80_58_poses.npz', 'npy_cos_sim/Fly_BK/npz/dry_head03_poses.npz', 'npy_cos_sim/Fly_BK/npz/dry_left_arm_03_poses.npz', 'npy_cos_sim/Fly_BK/npz/dry_left_arm_05_poses.npz', 'npy_cos_sim/Fly_BK/npz/dry_left_arm_12_poses.npz', 'npy_cos_sim/Fly_BK/npz/shower_head01_poses.npz', 'npy_cos_sim/Fly_BK/npz/shower_head02_poses.npz', 'npy_cos_sim/Fly_BK/npz/shower_head03_poses.npz', 'npy_cos_sim/Fly_BK/npz/Subject_53_F_7_poses.npz', 'npy_cos_sim/Fly_BK/npz/Subject_54_F_10_poses.npz', 'npy_cos_sim/Fly_BK/npz/Subject_66_F_12_poses.npz', 'npy_cos_sim/Fly_BK/npz/Subject_6_F_18_poses.npz', 'npy_cos_sim/Fly_BK/npz/Subject_85_F_4_poses.npz', 'npy_cos_sim/Fly_BK/npz/uar1b_poses.npz', 'npy_cos_sim/Fly_BK/npz/uar3_poses.npz', 'npy_cos_sim/Fly_BK/npz/wash_right_arm_01_poses.npz']\n"
     ]
    }
   ],
   "source": [
    "fly_folder_list = os.listdir(\"npy_cos_sim\")\n",
    "fly_file_path = 'Ascend_Start'\n",
    "# print(fly_folder_list)\n",
    "sim_npz_list = os.listdir(\"npy_cos_sim/\"+ fly_file_path+'/npz')\n",
    "# print(sim_npz_list)\n",
    "npz_file_list =[]\n",
    "for i in range(len(sim_npz_list)):\n",
    "    # file_add = os.path.join(\"npy_cos_sim\",fly_folder_list[0],\"npz\",sim_npz_list[i])\n",
    "    file_add = \"npy_cos_sim/\" + fly_folder_list[0] +\"/npz/\"+sim_npz_list[i]\n",
    "    npz_file_list.append(file_add)\n",
    "\n",
    "print(npz_file_list)\n",
    "\n"
   ]
  },
  {
   "cell_type": "code",
   "execution_count": null,
   "metadata": {},
   "outputs": [],
   "source": []
  },
  {
   "cell_type": "code",
   "execution_count": null,
   "metadata": {},
   "outputs": [],
   "source": []
  },
  {
   "cell_type": "code",
   "execution_count": null,
   "metadata": {},
   "outputs": [],
   "source": []
  },
  {
   "cell_type": "code",
   "execution_count": 98,
   "metadata": {},
   "outputs": [],
   "source": [
    "# file_path = npy_cos_sim/{FLY_FILE_FOLDER}/npz/{FILENAME.npz}\n",
    "def npz2csv(file_path):\n",
    "    npz_data = np.load(file_path, allow_pickle=True)\n",
    "    a2 = npz_data['trans']\n",
    "    b2 = npz_data['poses']\n",
    "    # fr = npz_data['mocap_framerate']\n",
    "    result =np.concatenate((a2,b2),axis=1)\n",
    "\n",
    "    save_file_name = file_path.replace(\"/npz/\",\"/csv/\")\n",
    "    np.savetxt(save_file_name[:-4]+ '.csv', result, delimiter=\",\")  # , fmt='%s'\n",
    "    print(save_file_name,\" 저장완료.\")\n"
   ]
  },
  {
   "cell_type": "code",
   "execution_count": 100,
   "metadata": {},
   "outputs": [
    {
     "name": "stdout",
     "output_type": "stream",
     "text": [
      "npy_cos_sim/Fly_BK/csv/28_13_poses.npz  저장완료.\n",
      "npy_cos_sim/Fly_BK/csv/30_23_poses.npz  저장완료.\n",
      "npy_cos_sim/Fly_BK/csv/54_16_poses.npz  저장완료.\n",
      "npy_cos_sim/Fly_BK/csv/54_23_poses.npz  저장완료.\n",
      "npy_cos_sim/Fly_BK/csv/80_58_poses.npz  저장완료.\n",
      "npy_cos_sim/Fly_BK/csv/dry_head03_poses.npz  저장완료.\n",
      "npy_cos_sim/Fly_BK/csv/dry_left_arm_03_poses.npz  저장완료.\n",
      "npy_cos_sim/Fly_BK/csv/dry_left_arm_05_poses.npz  저장완료.\n",
      "npy_cos_sim/Fly_BK/csv/dry_left_arm_12_poses.npz  저장완료.\n",
      "npy_cos_sim/Fly_BK/csv/shower_head01_poses.npz  저장완료.\n",
      "npy_cos_sim/Fly_BK/csv/shower_head02_poses.npz  저장완료.\n",
      "npy_cos_sim/Fly_BK/csv/shower_head03_poses.npz  저장완료.\n",
      "npy_cos_sim/Fly_BK/csv/Subject_53_F_7_poses.npz  저장완료.\n",
      "npy_cos_sim/Fly_BK/csv/Subject_54_F_10_poses.npz  저장완료.\n",
      "npy_cos_sim/Fly_BK/csv/Subject_66_F_12_poses.npz  저장완료.\n",
      "npy_cos_sim/Fly_BK/csv/Subject_6_F_18_poses.npz  저장완료.\n",
      "npy_cos_sim/Fly_BK/csv/Subject_85_F_4_poses.npz  저장완료.\n",
      "npy_cos_sim/Fly_BK/csv/uar1b_poses.npz  저장완료.\n",
      "npy_cos_sim/Fly_BK/csv/uar3_poses.npz  저장완료.\n",
      "npy_cos_sim/Fly_BK/csv/wash_right_arm_01_poses.npz  저장완료.\n"
     ]
    }
   ],
   "source": [
    "for npzfile in npz_file_list:\n",
    "    npz2csv(npzfile)"
   ]
  },
  {
   "cell_type": "code",
   "execution_count": null,
   "metadata": {},
   "outputs": [],
   "source": []
  },
  {
   "cell_type": "code",
   "execution_count": null,
   "metadata": {},
   "outputs": [],
   "source": []
  }
 ],
 "metadata": {
  "kernelspec": {
   "display_name": "py39",
   "language": "python",
   "name": "python3"
  },
  "language_info": {
   "codemirror_mode": {
    "name": "ipython",
    "version": 3
   },
   "file_extension": ".py",
   "mimetype": "text/x-python",
   "name": "python",
   "nbconvert_exporter": "python",
   "pygments_lexer": "ipython3",
   "version": "3.9.16"
  }
 },
 "nbformat": 4,
 "nbformat_minor": 2
}
